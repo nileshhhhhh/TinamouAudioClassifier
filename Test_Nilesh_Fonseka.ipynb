{
 "cells": [
  {
   "cell_type": "code",
   "execution_count": 49,
   "id": "90b93db1",
   "metadata": {},
   "outputs": [
    {
     "name": "stderr",
     "output_type": "stream",
     "text": [
      "WARNING:absl:Compiled the loaded model, but the compiled metrics have yet to be built. `model.compile_metrics` will be empty until you train or evaluate the model.\n"
     ]
    }
   ],
   "source": [
    "from keras.models import load_model\n",
    "pickle_model = load_model('DLmodel.h5')"
   ]
  },
  {
   "cell_type": "code",
   "execution_count": 50,
   "id": "eb403b7f",
   "metadata": {},
   "outputs": [],
   "source": [
    "import librosa\n",
    "import numpy as np\n",
    "def get_mfcc(Test_filename):\n",
    "    audio, sample_rate = librosa.load(Test_filename, res_type='kaiser_fast') \n",
    "    mfcc_features = librosa.feature.mfcc(y=audio, sr=sample_rate, n_mfcc=40)\n",
    "    mfcc_scaled_features = np.mean(mfcc_features.T,axis=0)\n",
    "    mfcc_scaled_features=mfcc_scaled_features.reshape(1,-1)\n",
    "    return mfcc_scaled_features"
   ]
  },
  {
   "cell_type": "code",
   "execution_count": 63,
   "id": "c7556b34",
   "metadata": {},
   "outputs": [
    {
     "name": "stdout",
     "output_type": "stream",
     "text": [
      "\u001b[1m1/1\u001b[0m \u001b[32m━━━━━━━━━━━━━━━━━━━━\u001b[0m\u001b[37m\u001b[0m \u001b[1m0s\u001b[0m 16ms/step\n"
     ]
    },
    {
     "data": {
      "text/plain": [
       "array([[0.903388  , 0.05841944, 0.03819253]], dtype=float32)"
      ]
     },
     "execution_count": 63,
     "metadata": {},
     "output_type": "execute_result"
    }
   ],
   "source": [
    "pred=pickle_model.predict(get_mfcc(\"E:\\\\AIML\\\\Audio Classifier\\\\XC157392 - Brown Tinamou - Crypturellus obsoletus.mp3\"))\n",
    "pred"
   ]
  },
  {
   "cell_type": "code",
   "execution_count": 64,
   "id": "7272bdfe",
   "metadata": {},
   "outputs": [],
   "source": [
    "def preds(predictions):\n",
    "    pred_class_labels = np.argmax(predictions, axis=1)\n",
    "    if pred_class_labels == [0]:\n",
    "        print(\"Brown Tinamou\")\n",
    "    elif pred_class_labels == [1]:\n",
    "        print(\"Cinereous Tinamou\")\n",
    "    else:\n",
    "        print(\"Great Tinamou\")"
   ]
  },
  {
   "cell_type": "code",
   "execution_count": 65,
   "id": "cfce597c",
   "metadata": {},
   "outputs": [
    {
     "name": "stdout",
     "output_type": "stream",
     "text": [
      "Brown Tinamou\n"
     ]
    }
   ],
   "source": [
    "preds(pred)"
   ]
  }
 ],
 "metadata": {
  "kernelspec": {
   "display_name": "Python 3 (ipykernel)",
   "language": "python",
   "name": "python3"
  },
  "language_info": {
   "codemirror_mode": {
    "name": "ipython",
    "version": 3
   },
   "file_extension": ".py",
   "mimetype": "text/x-python",
   "name": "python",
   "nbconvert_exporter": "python",
   "pygments_lexer": "ipython3",
   "version": "3.11.4"
  }
 },
 "nbformat": 4,
 "nbformat_minor": 5
}
